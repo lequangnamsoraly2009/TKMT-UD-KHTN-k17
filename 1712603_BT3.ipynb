{
 "cells": [
  {
   "cell_type": "markdown",
   "metadata": {},
   "source": [
    "#1712603 - Lê Quang Nam"
   ]
  },
  {
   "cell_type": "markdown",
   "metadata": {},
   "source": [
    "<h1> BÀI TẬP 3 </h1>"
   ]
  },
  {
   "cell_type": "markdown",
   "metadata": {},
   "source": [
    "Câu 1:"
   ]
  },
  {
   "cell_type": "markdown",
   "metadata": {},
   "source": [
    "Ma trận chuyển của xích Markov $\\{X_0,X_1,...\\}$ có tập trạng thái $\\{0,1,2\\}$ là:"
   ]
  },
  {
   "cell_type": "code",
   "execution_count": 20,
   "metadata": {},
   "outputs": [
    {
     "name": "stdout",
     "output_type": "stream",
     "text": [
      "[[Fraction(1, 2) Fraction(1, 6) Fraction(1, 3)]\n",
      " [0 Fraction(2, 3) Fraction(1, 3)]\n",
      " [Fraction(1, 2) 0 Fraction(1, 2)]]\n",
      "[[0.25 0.25 0.5 ]]\n"
     ]
    }
   ],
   "source": [
    "from fractions import Fraction as F\n",
    "import numpy as np\n",
    "P = np.matrix([\n",
    "    [F(1,2),F(1,6),F(1,3)],\n",
    "    [0,F(2,3),F(1,3)],\n",
    "    [F(1,2),0,F(1,2)]\n",
    "])\n",
    "print(P)\n",
    "X0 = [0.25,0.25,0.5]\n",
    "print(X0)"
   ]
  },
  {
   "cell_type": "markdown",
   "metadata": {},
   "source": [
    "Biết $P(X_0 = 0) = P(X_0 = 1)$ = $\\frac{1}{4} , P(X_0 = 2) = \\frac{1}{2} $"
   ]
  },
  {
   "cell_type": "markdown",
   "metadata": {},
   "source": [
    "a. $$P(X_9 = 0 | X_1 = 2 , X_7 = 1,X_4 = 2)$$"
   ]
  },
  {
   "cell_type": "markdown",
   "metadata": {},
   "source": [
    "= $$P(X_9 = 0 |  X_7 = 1)$$"
   ]
  },
  {
   "cell_type": "code",
   "execution_count": 10,
   "metadata": {},
   "outputs": [
    {
     "name": "stdout",
     "output_type": "stream",
     "text": [
      "1/6\n"
     ]
    }
   ],
   "source": [
    "from fractions import Fraction as F\n",
    "import numpy as np\n",
    "P_2 = P**2\n",
    "print(P_2[1,0])"
   ]
  },
  {
   "cell_type": "markdown",
   "metadata": {},
   "source": [
    "b. $$P(X_0 = 2 | X_1 = 1)$$"
   ]
  },
  {
   "cell_type": "markdown",
   "metadata": {},
   "source": [
    "Dùng định lý Bayes ta có: "
   ]
  },
  {
   "cell_type": "markdown",
   "metadata": {},
   "source": [
    "$$P(X_0 = 2 | X_1 = 1) = \\frac{P(X_0 = 2)P(X_1=1|X_0 = 2)}{P(X_1) = 1}$$"
   ]
  },
  {
   "cell_type": "markdown",
   "metadata": {},
   "source": [
    "$$P(X_0 = 2 | X_1 = 1) = P_{1,2}$$"
   ]
  },
  {
   "cell_type": "code",
   "execution_count": 12,
   "metadata": {},
   "outputs": [
    {
     "data": {
      "text/plain": [
       "Fraction(1, 3)"
      ]
     },
     "execution_count": 12,
     "metadata": {},
     "output_type": "execute_result"
    }
   ],
   "source": [
    "P[1,2]"
   ]
  },
  {
   "cell_type": "code",
   "execution_count": 39,
   "metadata": {},
   "outputs": [
    {
     "data": {
      "text/plain": [
       "0.5"
      ]
     },
     "execution_count": 39,
     "metadata": {},
     "output_type": "execute_result"
    }
   ],
   "source": [
    "X0[0,2]"
   ]
  },
  {
   "cell_type": "markdown",
   "metadata": {},
   "source": [
    "Phân phối của $X_1$ là $\\alpha P$"
   ]
  },
  {
   "cell_type": "code",
   "execution_count": 27,
   "metadata": {},
   "outputs": [
    {
     "name": "stdout",
     "output_type": "stream",
     "text": [
      "[[0.375 0.20833333333333331 0.41666666666666663]]\n"
     ]
    }
   ],
   "source": [
    "X1 = X0 * P\n",
    "print(X1)"
   ]
  },
  {
   "cell_type": "code",
   "execution_count": 38,
   "metadata": {},
   "outputs": [
    {
     "data": {
      "text/plain": [
       "0.20833333333333331"
      ]
     },
     "execution_count": 38,
     "metadata": {},
     "output_type": "execute_result"
    }
   ],
   "source": [
    "X1[0,1]"
   ]
  },
  {
   "cell_type": "code",
   "execution_count": 41,
   "metadata": {},
   "outputs": [
    {
     "data": {
      "text/plain": [
       "0.8"
      ]
     },
     "execution_count": 41,
     "metadata": {},
     "output_type": "execute_result"
    }
   ],
   "source": [
    "X0[0,2]*P[1,2]/X1[0,1]"
   ]
  },
  {
   "cell_type": "markdown",
   "metadata": {},
   "source": [
    "Vậy $$P(X_0 = 2 | X_1 = 1) = 0.8 $$"
   ]
  },
  {
   "cell_type": "markdown",
   "metadata": {},
   "source": [
    "c. $$P(X_1 = X_3 = 2)$$"
   ]
  },
  {
   "cell_type": "markdown",
   "metadata": {},
   "source": [
    "Dùng công thức nhân ta được:\n",
    "    $$P(X_1= 2,X_3 = 2) = P(X_1 = 2)P(X_3 = 2 | X_1 = 2)$$"
   ]
  },
  {
   "cell_type": "markdown",
   "metadata": {},
   "source": [
    "Ta xét : $$P(X_3 = 2 | X_1 = 2) = P_{2,2}$$"
   ]
  },
  {
   "cell_type": "code",
   "execution_count": 94,
   "metadata": {},
   "outputs": [],
   "source": [
    "P22 = P**2[2,2] =  0 "
   ]
  },
  {
   "cell_type": "code",
   "execution_count": 95,
   "metadata": {},
   "outputs": [
    {
     "data": {
      "text/plain": [
       "0.41666666666666663"
      ]
     },
     "execution_count": 95,
     "metadata": {},
     "output_type": "execute_result"
    }
   ],
   "source": [
    "X1[0,2]"
   ]
  },
  {
   "cell_type": "markdown",
   "metadata": {},
   "source": [
    "Vậy $P(X_1 = X_3 = 2) = P22 * X1[0,2]$ = 0"
   ]
  },
  {
   "cell_type": "markdown",
   "metadata": {},
   "source": [
    "d. $$E(X_3)$$"
   ]
  },
  {
   "cell_type": "markdown",
   "metadata": {},
   "source": [
    "Ta có $X_3$ là biến ngẫu nhiên rời rạc nhận các giá trị $S = \\{1,2,3\\}$"
   ]
  },
  {
   "cell_type": "markdown",
   "metadata": {},
   "source": [
    "Phân phối của $X_3 = \\alpha P^2$"
   ]
  },
  {
   "cell_type": "code",
   "execution_count": 65,
   "metadata": {},
   "outputs": [
    {
     "name": "stdout",
     "output_type": "stream",
     "text": [
      "[[Fraction(1, 2) Fraction(1, 6) Fraction(1, 3)]\n",
      " [0 Fraction(2, 3) Fraction(1, 3)]\n",
      " [Fraction(1, 2) 0 Fraction(1, 2)]]\n",
      "[0.25, 0.25, 0.5]\n",
      "[[0.3993055555555556 0.20023148148148148 0.40046296296296297]]\n"
     ]
    }
   ],
   "source": [
    "from fractions import Fraction as F\n",
    "import numpy as np\n",
    "P = np.matrix([\n",
    "    [F(1,2),F(1,6),F(1,3)],\n",
    "    [0,F(2,3),F(1,3)],\n",
    "    [F(1,2),0,F(1,2)]\n",
    "])\n",
    "print(P)\n",
    "X0 = [0.25,0.25,0.5]\n",
    "print(X0)\n",
    "X3 = X0 * P**3\n",
    "print(X3)"
   ]
  },
  {
   "cell_type": "markdown",
   "metadata": {},
   "source": [
    "Kì vọng của $X_3$ là:\n",
    "$$E(X_3) = \\sum_{k \\in S} kP(X_3 = k)$$"
   ]
  },
  {
   "cell_type": "code",
   "execution_count": 44,
   "metadata": {},
   "outputs": [
    {
     "name": "stdout",
     "output_type": "stream",
     "text": [
      "[[1]\n",
      " [2]\n",
      " [3]]\n"
     ]
    }
   ],
   "source": [
    "S = np.matrix([\n",
    "    [1],\n",
    "    [2],\n",
    "    [3]\n",
    "])\n",
    "print(S)"
   ]
  },
  {
   "cell_type": "code",
   "execution_count": 66,
   "metadata": {},
   "outputs": [
    {
     "name": "stdout",
     "output_type": "stream",
     "text": [
      "[[2.0011574074074074]]\n"
     ]
    }
   ],
   "source": [
    "E_X = X3*S\n",
    "print(E_X)"
   ]
  },
  {
   "cell_type": "markdown",
   "metadata": {},
   "source": [
    "Câu 2:"
   ]
  },
  {
   "cell_type": "markdown",
   "metadata": {},
   "source": [
    "Ta có $Y_n = 3X_n$ với $n = \\{0,1,2,...\\}$ "
   ]
  },
  {
   "cell_type": "markdown",
   "metadata": {},
   "source": [
    "=> $$Y_0 = X_0$$\n",
    "   $$Y_1 = X_3$$\n",
    "   $$Y_2 = X_6$$\n",
    "   $$Y_3 = X_9$$\n",
    "   $........$"
   ]
  },
  {
   "cell_type": "markdown",
   "metadata": {},
   "source": [
    "Vì vậy ta thấy $P(Y_1|Y_0)$ = $P(X_3|X_0)$\n",
    "Vì vậy Y là 1 xích Markov với ma trận chuyển là ma trận chuyển 3 bước của X "
   ]
  },
  {
   "cell_type": "markdown",
   "metadata": {},
   "source": [
    "Câu 3:"
   ]
  },
  {
   "cell_type": "markdown",
   "metadata": {},
   "source": [
    "Xác suất để đổi bi giữa bi đỏ và bi đen là như nhau, suy ra:"
   ]
  },
  {
   "cell_type": "markdown",
   "metadata": {},
   "source": [
    "Ta có $X_0 = [0.5,0.5] $"
   ]
  },
  {
   "cell_type": "markdown",
   "metadata": {},
   "source": [
    "Bốc được 1 bi thì xác suất thay bi cùng màu là 0.7 và xác suất thay bi khác màu là 0.3. Ta có ma trận Cùng và Khác như sau:\n",
    "Bi đầu tiên là bi đỏ và tập trạng thái $S = \\{0,1\\}$"
   ]
  },
  {
   "cell_type": "code",
   "execution_count": 69,
   "metadata": {},
   "outputs": [
    {
     "name": "stdout",
     "output_type": "stream",
     "text": [
      "[[0.7 0.3]\n",
      " [0.3 0.7]]\n",
      "[0.5, 0.5]\n"
     ]
    }
   ],
   "source": [
    "import numpy as np\n",
    "P = np.matrix([\n",
    "    [0.7,0.3],\n",
    "    [0.3,0.7]\n",
    "])\n",
    "X0 = [0.5,0.5]\n",
    "print(P)\n",
    "print(X0)"
   ]
  },
  {
   "cell_type": "markdown",
   "metadata": {},
   "source": [
    "Tính $P(X_5 = 0) $"
   ]
  },
  {
   "cell_type": "code",
   "execution_count": 53,
   "metadata": {},
   "outputs": [
    {
     "data": {
      "text/plain": [
       "0.5"
      ]
     },
     "execution_count": 53,
     "metadata": {},
     "output_type": "execute_result"
    }
   ],
   "source": [
    "X0[0]"
   ]
  },
  {
   "cell_type": "code",
   "execution_count": 70,
   "metadata": {},
   "outputs": [
    {
     "name": "stdout",
     "output_type": "stream",
     "text": [
      "[[0.50512 0.49488]\n",
      " [0.49488 0.50512]]\n"
     ]
    }
   ],
   "source": [
    "P_5 = P**5\n",
    "print(P_5)"
   ]
  },
  {
   "cell_type": "markdown",
   "metadata": {},
   "source": [
    "$P(X_5 = 0)$ = $\\alpha P^5 $"
   ]
  },
  {
   "cell_type": "code",
   "execution_count": 79,
   "metadata": {},
   "outputs": [
    {
     "name": "stdout",
     "output_type": "stream",
     "text": [
      "[[0.5 0.5]]\n"
     ]
    }
   ],
   "source": [
    "X_5 = X0*P**5\n",
    "print(X_5)"
   ]
  },
  {
   "cell_type": "markdown",
   "metadata": {},
   "source": [
    "Vậy xác suất ra bi màu đỏ ở lần bốc thứ 5 là xấp xỉ 0.5 ~ 0.50005(Theo như bấm tay)"
   ]
  },
  {
   "cell_type": "code",
   "execution_count": null,
   "metadata": {},
   "outputs": [],
   "source": []
  }
 ],
 "metadata": {
  "kernelspec": {
   "display_name": "Python 3",
   "language": "python",
   "name": "python3"
  },
  "language_info": {
   "codemirror_mode": {
    "name": "ipython",
    "version": 3
   },
   "file_extension": ".py",
   "mimetype": "text/x-python",
   "name": "python",
   "nbconvert_exporter": "python",
   "pygments_lexer": "ipython3",
   "version": "3.8.2"
  }
 },
 "nbformat": 4,
 "nbformat_minor": 4
}
